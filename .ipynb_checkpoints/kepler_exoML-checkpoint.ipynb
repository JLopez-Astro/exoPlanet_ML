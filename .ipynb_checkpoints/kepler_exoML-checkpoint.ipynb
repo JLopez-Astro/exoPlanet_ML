{
 "cells": [
  {
   "cell_type": "markdown",
   "id": "2689de72",
   "metadata": {},
   "source": [
    "### Import our modules."
   ]
  },
  {
   "cell_type": "code",
   "execution_count": 1,
   "id": "d637f336",
   "metadata": {},
   "outputs": [],
   "source": [
    "#test\n",
    "import numpy as np\n",
    "import pandas as pd"
   ]
  },
  {
   "cell_type": "markdown",
   "id": "2b1c7fbf",
   "metadata": {},
   "source": [
    "### Read our datasets. Retrieve necessary information about the sets, e.g. shape, unusable columns."
   ]
  },
  {
   "cell_type": "code",
   "execution_count": 2,
   "id": "4665f315",
   "metadata": {
    "scrolled": true
   },
   "outputs": [
    {
     "name": "stdout",
     "output_type": "stream",
     "text": [
      "Confirmed dataset shape = (2320, 21)\n",
      "Cumulative dataset shape = (9564, 20)\n",
      "Number of missing values in Confirmed Exoplanet dataset columns:\n",
      "tic_id            6\n",
      "gaia_id           6\n",
      "pl_orbper        48\n",
      "pl_radj           0\n",
      "pl_massj          0\n",
      "pl_dens         617\n",
      "pl_orbeccen     766\n",
      "pl_eqt         1185\n",
      "pl_trandep     1651\n",
      "pl_trandur     1337\n",
      "pl_ratdor      1076\n",
      "pl_ratror      1183\n",
      "st_teff         375\n",
      "st_rad          125\n",
      "st_mass          63\n",
      "st_lum         1644\n",
      "ra                0\n",
      "dec               0\n",
      "sy_pmra          19\n",
      "sy_pmdec         19\n",
      "sy_dist          46\n",
      "dtype: int64\n",
      "Number of missing values in Cumulative dataset columns:\n",
      "kepid                 0\n",
      "koi_disposition       0\n",
      "koi_pdisposition      0\n",
      "koi_period            0\n",
      "koi_time0bk           0\n",
      "koi_time0             0\n",
      "koi_eccen           363\n",
      "koi_impact          363\n",
      "koi_duration          0\n",
      "koi_depth           363\n",
      "koi_ror             363\n",
      "koi_prad            363\n",
      "koi_teq             363\n",
      "koi_steff           363\n",
      "koi_slogg           363\n",
      "koi_srad            363\n",
      "koi_smass           363\n",
      "ra                    0\n",
      "dec                   0\n",
      "koi_kepmag            1\n",
      "dtype: int64\n"
     ]
    }
   ],
   "source": [
    "# kConf = pd.read_csv('data/kepExoConfirmed.csv')\n",
    "eConf = pd.read_csv('data/exoConf.csv')\n",
    "kCumu = pd.read_csv('data/kepExoCumulative.csv')\n",
    "print('Confirmed dataset shape = '+str(eConf.shape))\n",
    "print('Cumulative dataset shape = '+str(kCumu.shape))\n",
    "\n",
    "eConf_missing = eConf.isna().sum()\n",
    "kCumu_missing = kCumu.isna().sum()\n",
    "\n",
    "print('Number of missing values in Confirmed Exoplanet dataset columns:')\n",
    "print(eConf_missing)\n",
    "\n",
    "print('Number of missing values in Cumulative dataset columns:')\n",
    "print(kCumu_missing)"
   ]
  },
  {
   "cell_type": "code",
   "execution_count": null,
   "id": "f3f6620c",
   "metadata": {},
   "outputs": [],
   "source": []
  }
 ],
 "metadata": {
  "kernelspec": {
   "display_name": "Python 3",
   "language": "python",
   "name": "python3"
  },
  "language_info": {
   "codemirror_mode": {
    "name": "ipython",
    "version": 3
   },
   "file_extension": ".py",
   "mimetype": "text/x-python",
   "name": "python",
   "nbconvert_exporter": "python",
   "pygments_lexer": "ipython3",
   "version": "3.8.8"
  }
 },
 "nbformat": 4,
 "nbformat_minor": 5
}

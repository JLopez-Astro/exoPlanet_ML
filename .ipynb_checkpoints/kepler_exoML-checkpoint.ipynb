{
 "cells": [
  {
   "cell_type": "markdown",
   "id": "2689de72",
   "metadata": {},
   "source": [
    "### Import our modules."
   ]
  },
  {
   "cell_type": "code",
   "execution_count": 1,
   "id": "d637f336",
   "metadata": {},
   "outputs": [],
   "source": [
    "import numpy as np\n",
    "import pandas as pd"
   ]
  },
  {
   "cell_type": "markdown",
   "id": "2b1c7fbf",
   "metadata": {},
   "source": [
    "### Read our datasets. Retrieve necessary information about the sets, e.g. shape, unusable columns."
   ]
  },
  {
   "cell_type": "code",
   "execution_count": 18,
   "id": "4665f315",
   "metadata": {},
   "outputs": [
    {
     "name": "stdout",
     "output_type": "stream",
     "text": [
      "Confirmed dataset shape = (2671, 44)\n",
      "Cumulative dataset shape = (9564, 44)\n",
      "Number of missing values in Cumulative dataset columns:\n"
     ]
    },
    {
     "data": {
      "text/plain": [
       "kepid                   0\n",
       "koi_disposition         0\n",
       "koi_pdisposition        0\n",
       "koi_score            1510\n",
       "koi_period              0\n",
       "koi_period_err1       454\n",
       "koi_period_err2       454\n",
       "koi_time0bk             0\n",
       "koi_time0bk_err1      454\n",
       "koi_time0bk_err2      454\n",
       "koi_time0               0\n",
       "koi_time0_err1        454\n",
       "koi_time0_err2        454\n",
       "koi_impact            363\n",
       "koi_impact_err1       454\n",
       "koi_impact_err2       454\n",
       "koi_duration            0\n",
       "koi_duration_err1     454\n",
       "koi_duration_err2     454\n",
       "koi_depth             363\n",
       "koi_depth_err1        454\n",
       "koi_depth_err2        454\n",
       "koi_prad              363\n",
       "koi_prad_err1         363\n",
       "koi_prad_err2         363\n",
       "koi_teq               363\n",
       "koi_teq_err1         9564\n",
       "koi_teq_err2         9564\n",
       "koi_insol             321\n",
       "koi_insol_err1        321\n",
       "koi_insol_err2        321\n",
       "koi_model_snr         363\n",
       "koi_steff             363\n",
       "koi_steff_err1        468\n",
       "koi_steff_err2        483\n",
       "koi_slogg             363\n",
       "koi_slogg_err1        468\n",
       "koi_slogg_err2        468\n",
       "koi_srad              363\n",
       "koi_srad_err1         468\n",
       "koi_srad_err2         468\n",
       "ra                      0\n",
       "dec                     0\n",
       "koi_kepmag              1\n",
       "dtype: int64"
      ]
     },
     "execution_count": 18,
     "metadata": {},
     "output_type": "execute_result"
    }
   ],
   "source": [
    "kConf = pd.read_csv('data/kepExoConfirmed.csv')\n",
    "kCumu = pd.read_csv('data/kepExoCumulative.csv')\n",
    "print('Confirmed dataset shape = '+str(kConf.shape))\n",
    "print('Cumulative dataset shape = '+str(kCumu.shape))\n",
    "\n",
    "kConf_missing = kConf.isna().sum()\n",
    "kCumu_missing = kCumu.isna().sum()\n",
    "\n",
    "print('Number of missing values in Cumulative dataset columns:')\n",
    "kCumu_missing"
   ]
  },
  {
   "cell_type": "code",
   "execution_count": null,
   "id": "55602b30",
   "metadata": {},
   "outputs": [],
   "source": []
  }
 ],
 "metadata": {
  "kernelspec": {
   "display_name": "Python 3",
   "language": "python",
   "name": "python3"
  },
  "language_info": {
   "codemirror_mode": {
    "name": "ipython",
    "version": 3
   },
   "file_extension": ".py",
   "mimetype": "text/x-python",
   "name": "python",
   "nbconvert_exporter": "python",
   "pygments_lexer": "ipython3",
   "version": "3.8.8"
  }
 },
 "nbformat": 4,
 "nbformat_minor": 5
}
